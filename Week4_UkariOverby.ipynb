{
 "cells": [
  {
   "cell_type": "markdown",
   "id": "ba26b709",
   "metadata": {},
   "source": [
    "Question 1:\n",
    "\n",
    "The first step is to drop unwanted data. This is important because is helps make an accurate analysis. If the data is not needed it should not be included.\n",
    "\n",
    "The second step is to check for missing data. This is important because it could cause the analysis to be inaccurate.\n",
    "\n",
    "The third step is to address missing data. This is important because we need to know how to deal with missing data so our analysis is correct. Leaving the data missing can cause an inaccurate analysis.\n",
    "\n",
    "The fourth step is to remove duplicates. This is important because we do not want to have multiple instances of the same data. This can cause the data to be biased.\n",
    "\n",
    "The fifth step is to fix structural errors. This is important because it helps ensure that the data is consistent and ready to be used for analysis.\n",
    "\n",
    "The sixth step is check valid inputs for categorical features. This feature has limited amount of values, meaning that if the values go over that limit it could cause errors and the data could be incorrect.\n",
    "\n",
    "The seventh step is to identify numerical outliers. This is important because it helps see the max and min outliers in the data to help give a valid analysis."
   ]
  },
  {
   "cell_type": "code",
   "execution_count": 3,
   "id": "045fbcbf",
   "metadata": {},
   "outputs": [
    {
     "name": "stdout",
     "output_type": "stream",
     "text": [
      "(242, 16)\n",
      "                                                 url  \\\n",
      "0  https://www.coursera.org/specializations/netwo...   \n",
      "1        https://www.coursera.org/learn/2NAspeedNAit   \n",
      "2  https://www.coursera.org/learn/fundamentalsNAn...   \n",
      "3    https://www.coursera.org/learn/uxNAdesignNAjobs   \n",
      "4  https://www.coursera.org/learn/databaseNAappli...   \n",
      "5  https://www.coursera.org/learn/webNAdesignNAwi...   \n",
      "6  https://www.coursera.org/learn/wireframesNAlow...   \n",
      "7  https://www.coursera.org/learn/introductionNAp...   \n",
      "8  https://www.coursera.org/specializations/virtu...   \n",
      "9  https://www.coursera.org/specializations/cplus...   \n",
      "\n",
      "                                               title  \\\n",
      "0          Networking in Google Cloud Specialization   \n",
      "1  Two Speed IT: How Companies Can Surf the Digit...   \n",
      "2              Fundamentals of Network Communication   \n",
      "3  Design a User Experience for Social Good & Pre...   \n",
      "4              Building Database Applications in PHP   \n",
      "5               Web Design: Wireframes to Prototypes   \n",
      "6      Build Wireframes and LowNAFidelity Prototypes   \n",
      "7           Introduction to C# Programming and Unity   \n",
      "8                     Virtual Reality Specialization   \n",
      "9  C++ Programming for Unreal Game Development Sp...   \n",
      "\n",
      "  associated-university-institution-company             type  \\\n",
      "0                              Google Cloud  specializations   \n",
      "1                           CentraleSupélec           course   \n",
      "2             University of Colorado System           course   \n",
      "3                                    Google           course   \n",
      "4                    University of Michigan           course   \n",
      "5          California Institute of the Arts           course   \n",
      "6                                    Google           course   \n",
      "7             University of Colorado System           course   \n",
      "8                                       NaN  specializations   \n",
      "9             University of Colorado System  specializations   \n",
      "\n",
      "                                               image  \\\n",
      "0  https://s3.amazonaws.com/coursera_assets/meta_...   \n",
      "1  https://s3.amazonaws.com/coursera_assets/meta_...   \n",
      "2  https://s3.amazonaws.com/coursera_assets/meta_...   \n",
      "3  https://s3.amazonaws.com/coursera_assets/meta_...   \n",
      "4  https://s3.amazonaws.com/coursera_assets/meta_...   \n",
      "5  https://s3.amazonaws.com/coursera_assets/meta_...   \n",
      "6  https://s3.amazonaws.com/coursera_assets/meta_...   \n",
      "7  https://s3.amazonaws.com/coursera_assets/meta_...   \n",
      "8  https://s3.amazonaws.com/coursera_assets/meta_...   \n",
      "9  https://s3.amazonaws.com/coursera_assets/meta_...   \n",
      "\n",
      "            category-subject-area certificate-is-available  \\\n",
      "0                      Networking    Shareable Certificate   \n",
      "1             Business Essentials    Shareable Certificate   \n",
      "2  Computer Security and Networks    Shareable Certificate   \n",
      "3              Design and Product    Shareable Certificate   \n",
      "4      Mobile and Web Development    Shareable Certificate   \n",
      "5                   Music and Art    Shareable Certificate   \n",
      "6              Design and Product    Shareable Certificate   \n",
      "7            Software Development    Shareable Certificate   \n",
      "8              Design and Product    Shareable Certificate   \n",
      "9            Software Development    Shareable Certificate   \n",
      "\n",
      "                                         description  \\\n",
      "0  This specialization gives participants broad s...   \n",
      "1  Transform or disappear, the Darwinism of IT: I...   \n",
      "2  In this course, we trace the evolution of netw...   \n",
      "3  Design a User Experience for Social Good and P...   \n",
      "4  In this course, we'll look at the object orien...   \n",
      "5  This course is focused on the application of t...   \n",
      "6  Build Wireframes and LowNAFidelity Prototypes ...   \n",
      "7  This course is all about starting to learn how...   \n",
      "8                       This specialisation from the   \n",
      "9  This Specialization is intended for intermedia...   \n",
      "\n",
      "                             duration language               level  \\\n",
      "0  Approximately 4 months to complete  English  Intermediate Level   \n",
      "1        Approx. 14 hours to complete  English                 NaN   \n",
      "2        Approx. 15 hours to complete  English  Intermediate Level   \n",
      "3        Approx. 71 hours to complete  English      Beginner Level   \n",
      "4        Approx. 24 hours to complete  English  Intermediate Level   \n",
      "5        Approx. 41 hours to complete  English  Intermediate Level   \n",
      "6        Approx. 22 hours to complete  English      Beginner Level   \n",
      "7        Approx. 19 hours to complete  English      Beginner Level   \n",
      "8  Approximately 6 months to complete  English      Beginner Level   \n",
      "9  Approximately 4 months to complete  English  Intermediate Level   \n",
      "\n",
      "   prerequisites price  rating  \\\n",
      "0            NaN  free     4.8   \n",
      "1            NaN  free     4.3   \n",
      "2            NaN  free     4.6   \n",
      "3            NaN  free     4.8   \n",
      "4            NaN  free     4.9   \n",
      "5            NaN  free     4.9   \n",
      "6            NaN  free     4.9   \n",
      "7            NaN  free     4.6   \n",
      "8            NaN  free     4.7   \n",
      "9            NaN  free     4.6   \n",
      "\n",
      "                                            syllabus             timestamp  \n",
      "0                                                NaN  2022-07-29T23:58:34Z  \n",
      "1  Introduction ~.~ Start here! ~.~ IT and the CI...  2022-07-29T23:58:34Z  \n",
      "2  Communication Networks and Services ~.~ This m...  2022-07-29T23:58:54Z  \n",
      "3  Starting the UX design process: empathize, def...  2022-07-29T23:59:20Z  \n",
      "4  PHP Objects ~.~ We look at the object oriented...  2022-07-29T23:59:20Z  \n",
      "5  Not Getting Caught up in the Details: Wirefram...  2022-07-29T23:59:20Z  \n",
      "6  Storyboarding and wireframing ~.~ Welcome to t...  2022-07-29T23:59:51Z  \n",
      "7  Starting to Program ~.~ In this module, you'll...  2022-07-30T00:00:07Z  \n",
      "8                                                NaN  2022-07-30T00:00:07Z  \n",
      "9                                                NaN  2022-07-30T00:00:07Z  \n",
      "url                                           object\n",
      "title                                         object\n",
      "associated-university-institution-company     object\n",
      "type                                          object\n",
      "image                                         object\n",
      "category-subject-area                         object\n",
      "certificate-is-available                      object\n",
      "description                                   object\n",
      "duration                                      object\n",
      "language                                      object\n",
      "level                                         object\n",
      "prerequisites                                float64\n",
      "price                                         object\n",
      "rating                                       float64\n",
      "syllabus                                      object\n",
      "timestamp                                     object\n",
      "dtype: object\n"
     ]
    }
   ],
   "source": [
    "#Question2\n",
    "\n",
    "import pandas as pd\n",
    "df = pd.read_csv(\"webautomation_coursera.csv\")\n",
    "\n",
    "print(df.shape)\n",
    "print(df.head(10))\n",
    "print(df.dtypes)\n"
   ]
  },
  {
   "cell_type": "code",
   "execution_count": 7,
   "id": "8c772e7d",
   "metadata": {},
   "outputs": [
    {
     "name": "stdout",
     "output_type": "stream",
     "text": [
      "(242, 12)\n",
      "This shows that the 4 features were removed by looking at the shape\n"
     ]
    }
   ],
   "source": [
    "#Question3\n",
    "\n",
    "dropped_features = df.drop(['image', 'description', 'prerequisites', 'syllabus'], axis = 1)\n",
    "print(dropped_features.shape)\n",
    "print(\"This shows that the 4 features were removed by looking at the shape\")"
   ]
  },
  {
   "cell_type": "code",
   "execution_count": 9,
   "id": "fa3c5966",
   "metadata": {},
   "outputs": [
    {
     "name": "stdout",
     "output_type": "stream",
     "text": [
      "url                                            0\n",
      "title                                          3\n",
      "associated-university-institution-company     19\n",
      "type                                           1\n",
      "image                                          0\n",
      "category-subject-area                          4\n",
      "certificate-is-available                      24\n",
      "description                                   20\n",
      "duration                                      20\n",
      "language                                      20\n",
      "level                                         55\n",
      "prerequisites                                242\n",
      "price                                         20\n",
      "rating                                        21\n",
      "syllabus                                      90\n",
      "timestamp                                      0\n",
      "dtype: int64\n",
      "url 0.0\n",
      "title 0.01\n",
      "associated-university-institution-company 0.08\n",
      "type 0.0\n",
      "image 0.0\n",
      "category-subject-area 0.02\n",
      "certificate-is-available 0.1\n",
      "description 0.08\n",
      "duration 0.08\n",
      "language 0.08\n",
      "level 0.23\n",
      "prerequisites 1.0\n",
      "price 0.08\n",
      "rating 0.09\n",
      "syllabus 0.37\n",
      "timestamp 0.0\n"
     ]
    }
   ],
   "source": [
    "#Question4\n",
    "import numpy as np\n",
    "\n",
    "print(df.isnull().sum())\n",
    "\n",
    "for cols in df.columns:\n",
    "    pct_missing = (df[cols].isnull().sum())/df.shape[0]\n",
    "    print(cols , round(pct_missing, 2))\n"
   ]
  },
  {
   "cell_type": "code",
   "execution_count": 24,
   "id": "d1526f16",
   "metadata": {},
   "outputs": [
    {
     "name": "stdout",
     "output_type": "stream",
     "text": [
      "url                                            0\n",
      "title                                          0\n",
      "associated-university-institution-company     15\n",
      "type                                           0\n",
      "image                                          0\n",
      "category-subject-area                          0\n",
      "certificate-is-available                       4\n",
      "description                                    0\n",
      "duration                                       0\n",
      "language                                       0\n",
      "level                                         34\n",
      "prerequisites                                220\n",
      "price                                          0\n",
      "rating                                         0\n",
      "syllabus                                      85\n",
      "timestamp                                      0\n",
      "dtype: int64\n"
     ]
    }
   ],
   "source": [
    "#Question5\n",
    "\n",
    "missing_lan = df['language'].fillna('English', inplace = False)\n",
    "drop_rating = df.dropna(subset = ['rating'], inplace = True)\n",
    "df_lessmissingvalue = df.dropna(thresh = len(df.columns) - 3)\n",
    "\n",
    "print(df.isnull().sum())"
   ]
  },
  {
   "cell_type": "code",
   "execution_count": 29,
   "id": "754a3e87",
   "metadata": {},
   "outputs": [
    {
     "name": "stdout",
     "output_type": "stream",
     "text": [
      "The original shape (220, 16)\n",
      "The shape after duplicates dropped (167, 16)\n",
      "The number of duplicates removed are: 53\n"
     ]
    }
   ],
   "source": [
    "#Question6\n",
    "\n",
    "print(\"The original shape\", df.shape)\n",
    "drop_duplicates = df.drop_duplicates(subset = 'url', keep = 'last')\n",
    "print(\"The shape after duplicates dropped\", drop_duplicates.shape)\n",
    "print(\"The number of duplicates removed are: 53\")"
   ]
  },
  {
   "cell_type": "code",
   "execution_count": 33,
   "id": "096caa65",
   "metadata": {},
   "outputs": [
    {
     "name": "stdout",
     "output_type": "stream",
     "text": [
      "Current Datatype:  datetime64[ns, UTC]\n",
      "New Datatype:  datetime64[ns, UTC]\n"
     ]
    }
   ],
   "source": [
    "#Question7\n",
    "\n",
    "print(\"Current Datatype: \", df['timestamp'].dtype)\n",
    "\n",
    "if df['timestamp'].dtype == 'object':\n",
    "    df['timestamp'] = pd.to_datetime(df['timestamp'])\n",
    "    \n",
    "print(\"New Datatype: \", df['timestamp'].dtype)"
   ]
  },
  {
   "cell_type": "code",
   "execution_count": 34,
   "id": "0b107132",
   "metadata": {},
   "outputs": [
    {
     "name": "stdout",
     "output_type": "stream",
     "text": [
      "['Google Cloud' 'CentraleSupélec' 'University of Colorado System' 'Google'\n",
      " 'University of Michigan' 'California Institute of the Arts' nan\n",
      " 'Michigan State University' 'University of California San Diego'\n",
      " 'University of Virginia' 'IBM Skills Network' 'Advancing Women in Tech'\n",
      " 'University of Alberta' 'University of Minnesota' 'New York University'\n",
      " '(ISC)²' 'Amazon Web Services' 'Palo Alto Networks' 'Oracle'\n",
      " 'Juniper Networks' 'Knowledge Accelerators' 'DeepLearning.AI' 'IBM'\n",
      " 'Princeton University' 'University System of Georgia'\n",
      " 'Stanford University'\n",
      " 'The Hong Kong University of Science and Technology'\n",
      " 'Universidad de los Andes' 'University of Pennsylvania'\n",
      " 'University of California, Davis' 'Imperial College London' 'Meta'\n",
      " 'Universidad Austral' 'Alibaba Cloud Academy' 'Duke University'\n",
      " 'Macquarie University' 'GitLab' 'University of California, Irvine'\n",
      " 'Georgia Institute of Technology' 'University of Toronto'\n",
      " 'Pontificia Universidad Católica de Chile'\n",
      " 'University of Colorado Boulder' 'McMaster University'\n",
      " 'Politecnico di Milano' 'LudwigNAMaximiliansNAUniversität München (LMU)'\n",
      " 'University of Geneva' 'University of Amsterdam'\n",
      " 'University of Maryland, College Park' 'University of Kentucky'\n",
      " 'Technical University of Denmark (DTU)' 'École Polytechnique'\n",
      " 'University of Arizona' 'Rutgers the State University of New Jersey'\n",
      " 'The University of Sydney' 'Universidade de São Paulo'\n",
      " 'University of Manchester']\n",
      "['specializations' 'course' 'professional certificates'\n",
      " 'Professional certificates']\n"
     ]
    }
   ],
   "source": [
    "#Question8\n",
    "\n",
    "df.rename(columns = {'associated-university-institution-company': 'institution'}, inplace = True)\n",
    "unique_values = df['institution'].unique()\n",
    "unique_types = df['type'].unique()\n",
    "\n",
    "print(unique_values)\n",
    "print(unique_types)"
   ]
  },
  {
   "cell_type": "code",
   "execution_count": 55,
   "id": "3c4efc94",
   "metadata": {},
   "outputs": [
    {
     "data": {
      "image/png": "[encoded data removed]",
      "text/plain": [
       "<Figure size 640x480 with 1 Axes>"
      ]
     },
     "metadata": {},
     "output_type": "display_data"
    }
   ],
   "source": [
    "#Question9\n",
    "\n",
    "from matplotlib import pyplot as plt\n",
    "\n",
    "df.boxplot(column=['rating'])\n",
    "plt.show()"
   ]
  },
  {
   "cell_type": "code",
   "execution_count": 52,
   "id": "a6297533",
   "metadata": {},
   "outputs": [
    {
     "name": "stdout",
     "output_type": "stream",
     "text": [
      "                  institution  rating\n",
      "24      Politecnico di Milano   4.900\n",
      "34  Universidade de São Paulo   4.900\n",
      "33   Universidad de los Andes   4.900\n",
      "32        Universidad Austral   4.900\n",
      "28        Stanford University   4.875\n"
     ]
    }
   ],
   "source": [
    "#Question10\n",
    "\n",
    "avg_ratings = df.groupby('institution')['rating'].mean().reset_index()\n",
    "top5_institutes = avg_ratings.sort_values(by = 'rating', ascending = False).head(5)\n",
    "\n",
    "print(top5_institutes)"
   ]
  },
  {
   "cell_type": "code",
   "execution_count": 50,
   "id": "5f761076",
   "metadata": {},
   "outputs": [
    {
     "name": "stdout",
     "output_type": "stream",
     "text": [
      "                      institution  category-subject-area\n",
      "10                         Google                     40\n",
      "13             IBM Skills Network                     16\n",
      "11                   Google Cloud                     16\n",
      "44  University of Colorado System                      9\n",
      "18           Macquarie University                      9\n"
     ]
    }
   ],
   "source": [
    "#Question11\n",
    "\n",
    "courses = df.groupby('institution')['category-subject-area'].count().reset_index()\n",
    "top5_institutes = courses.sort_values(by = 'category-subject-area', ascending = False).head(5)\n",
    "\n",
    "print(top5_institutes)"
   ]
  },
  {
   "cell_type": "code",
   "execution_count": 62,
   "id": "3de72de3",
   "metadata": {},
   "outputs": [
    {
     "name": "stdout",
     "output_type": "stream",
     "text": [
      "University of Colorado Boulder\n",
      "Google Cloud\n",
      "Google\n"
     ]
    }
   ],
   "source": [
    "p_table = df.pivot_table(index='institution', columns='level', values='category-subject-area', aggfunc='count', fill_value=None)\n",
    "advanced = p_table['Advanced Level'].idxmax()\n",
    "intermediate = p_table['Intermediate Level'].idxmax()\n",
    "beginner = p_table['Beginner Level'].idxmax()\n",
    "\n",
    "print(advanced)\n",
    "print(intermediate)\n",
    "print(beginner)"
   ]
  },
  {
   "cell_type": "markdown",
   "id": "34ffe87c",
   "metadata": {},
   "source": [
    "THIS IS AN INDIVIDUAL ASSIGNMENT. YOU MAY NOT DISCUSS THIS ASSIGNMENT WITH ANYONE WITHIN OR OUTSIDE THE CLASS (except the instructor).\n",
    "- DO not discuss your approaches or your code with colleagues. There are many ways to implement this assignment, and it is extremely easy to spot code that has been inspired by someone else’s code and to identify unauthorized collaborations.\n",
    "- If you choose to utilize something you find online, cite that resource, but DO NOT share that resource with anyone else.\n",
    "By submitting this assignment, you certify that no unauthorized assistance has been received or given in the completion of this work.\n",
    "\n",
    "Ukari Overby"
   ]
  },
  {
   "cell_type": "code",
   "execution_count": null,
   "id": "d005b529",
   "metadata": {},
   "outputs": [],
   "source": []
  }
 ],
 "metadata": {
  "kernelspec": {
   "display_name": "Python 3 (ipykernel)",
   "language": "python",
   "name": "python3"
  },
  "language_info": {
   "codemirror_mode": {
    "name": "ipython",
    "version": 3
   },
   "file_extension": ".py",
   "mimetype": "text/x-python",
   "name": "python",
   "nbconvert_exporter": "python",
   "pygments_lexer": "ipython3",
   "version": "3.11.4"
  }
 },
 "nbformat": 4,
 "nbformat_minor": 5
}
